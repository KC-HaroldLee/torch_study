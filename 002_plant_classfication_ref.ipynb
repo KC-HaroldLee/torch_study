{
 "cells": [
  {
   "cell_type": "code",
   "execution_count": 1,
   "metadata": {},
   "outputs": [],
   "source": [
    "import os\n",
    "os.environ['CUDA_LAUNCH_BLOCKING'] = \"1\"\n",
    "os.environ[\"CUDA_VISIBLE_DEVICES\"] = \"0\""
   ]
  },
  {
   "cell_type": "code",
   "execution_count": 34,
   "metadata": {},
   "outputs": [
    {
     "ename": "FileExistsError",
     "evalue": "[WinError 183] 파일이 이미 있으므로 만들 수 없습니다: './splitted'",
     "output_type": "error",
     "traceback": [
      "\u001b[1;31m---------------------------------------------------------------------------\u001b[0m",
      "\u001b[1;31mFileExistsError\u001b[0m                           Traceback (most recent call last)",
      "\u001b[1;32md:\\workspace\\torch_study\\002_plant_classfication_ref.ipynb Cell 2'\u001b[0m in \u001b[0;36m<cell line: 8>\u001b[1;34m()\u001b[0m\n\u001b[0;32m      <a href='vscode-notebook-cell:/d%3A/workspace/torch_study/002_plant_classfication_ref.ipynb#ch0000001?line=4'>5</a>\u001b[0m classes_list \u001b[39m=\u001b[39m os\u001b[39m.\u001b[39mlistdir(original_dataset_dir) \n\u001b[0;32m      <a href='vscode-notebook-cell:/d%3A/workspace/torch_study/002_plant_classfication_ref.ipynb#ch0000001?line=6'>7</a>\u001b[0m base_dir \u001b[39m=\u001b[39m \u001b[39m'\u001b[39m\u001b[39m./splitted\u001b[39m\u001b[39m'\u001b[39m \n\u001b[1;32m----> <a href='vscode-notebook-cell:/d%3A/workspace/torch_study/002_plant_classfication_ref.ipynb#ch0000001?line=7'>8</a>\u001b[0m os\u001b[39m.\u001b[39;49mmkdir(base_dir)\n\u001b[0;32m     <a href='vscode-notebook-cell:/d%3A/workspace/torch_study/002_plant_classfication_ref.ipynb#ch0000001?line=9'>10</a>\u001b[0m train_dir \u001b[39m=\u001b[39m os\u001b[39m.\u001b[39mpath\u001b[39m.\u001b[39mjoin(base_dir, \u001b[39m'\u001b[39m\u001b[39mtrain\u001b[39m\u001b[39m'\u001b[39m) \n\u001b[0;32m     <a href='vscode-notebook-cell:/d%3A/workspace/torch_study/002_plant_classfication_ref.ipynb#ch0000001?line=10'>11</a>\u001b[0m os\u001b[39m.\u001b[39mmkdir(train_dir)\n",
      "\u001b[1;31mFileExistsError\u001b[0m: [WinError 183] 파일이 이미 있으므로 만들 수 없습니다: './splitted'"
     ]
    }
   ],
   "source": [
    "import os\n",
    "import shutil\n",
    " \n",
    "original_dataset_dir = './dataset'   \n",
    "classes_list = os.listdir(original_dataset_dir) \n",
    " \n",
    "base_dir = './splitted' \n",
    "os.mkdir(base_dir)\n",
    " \n",
    "train_dir = os.path.join(base_dir, 'train') \n",
    "os.mkdir(train_dir)\n",
    "validation_dir = os.path.join(base_dir, 'val')\n",
    "os.mkdir(validation_dir)\n",
    "test_dir = os.path.join(base_dir, 'test')\n",
    "os.mkdir(test_dir)\n",
    "\n",
    "for cls in classes_list:     \n",
    "    os.mkdir(os.path.join(train_dir, cls))\n",
    "    os.mkdir(os.path.join(validation_dir, cls))\n",
    "    os.mkdir(os.path.join(test_dir, cls))"
   ]
  },
  {
   "cell_type": "code",
   "execution_count": 35,
   "metadata": {},
   "outputs": [
    {
     "name": "stdout",
     "output_type": "stream",
     "text": [
      "Train size( Apple___Apple_scab ):  378\n"
     ]
    },
    {
     "ename": "NameError",
     "evalue": "name 'train_dir' is not defined",
     "output_type": "error",
     "traceback": [
      "\u001b[1;31m---------------------------------------------------------------------------\u001b[0m",
      "\u001b[1;31mNameError\u001b[0m                                 Traceback (most recent call last)",
      "\u001b[1;32md:\\workspace\\torch_study\\002_plant_classfication_ref.ipynb Cell 3'\u001b[0m in \u001b[0;36m<cell line: 3>\u001b[1;34m()\u001b[0m\n\u001b[0;32m     <a href='vscode-notebook-cell:/d%3A/workspace/torch_study/002_plant_classfication_ref.ipynb#ch0000002?line=12'>13</a>\u001b[0m \u001b[39mfor\u001b[39;00m fname \u001b[39min\u001b[39;00m train_fnames:\n\u001b[0;32m     <a href='vscode-notebook-cell:/d%3A/workspace/torch_study/002_plant_classfication_ref.ipynb#ch0000002?line=13'>14</a>\u001b[0m     src \u001b[39m=\u001b[39m os\u001b[39m.\u001b[39mpath\u001b[39m.\u001b[39mjoin(path, fname)\n\u001b[1;32m---> <a href='vscode-notebook-cell:/d%3A/workspace/torch_study/002_plant_classfication_ref.ipynb#ch0000002?line=14'>15</a>\u001b[0m     dst \u001b[39m=\u001b[39m os\u001b[39m.\u001b[39mpath\u001b[39m.\u001b[39mjoin(os\u001b[39m.\u001b[39mpath\u001b[39m.\u001b[39mjoin(train_dir, \u001b[39mcls\u001b[39m), fname)\n\u001b[0;32m     <a href='vscode-notebook-cell:/d%3A/workspace/torch_study/002_plant_classfication_ref.ipynb#ch0000002?line=15'>16</a>\u001b[0m     shutil\u001b[39m.\u001b[39mcopyfile(src, dst)\n\u001b[0;32m     <a href='vscode-notebook-cell:/d%3A/workspace/torch_study/002_plant_classfication_ref.ipynb#ch0000002?line=17'>18</a>\u001b[0m validation_fnames \u001b[39m=\u001b[39m fnames[train_size:(validation_size \u001b[39m+\u001b[39m train_size)]\n",
      "\u001b[1;31mNameError\u001b[0m: name 'train_dir' is not defined"
     ]
    }
   ],
   "source": [
    "\n",
    "import math\n",
    " \n",
    "for cls in classes_list:\n",
    "    path = os.path.join(original_dataset_dir, cls)\n",
    "    fnames = os.listdir(path)\n",
    " \n",
    "    train_size = math.floor(len(fnames) * 0.6)\n",
    "    validation_size = math.floor(len(fnames) * 0.2)\n",
    "    test_size = math.floor(len(fnames) * 0.2)\n",
    "    \n",
    "    train_fnames = fnames[:train_size]\n",
    "    print(\"Train size(\",cls,\"): \", len(train_fnames))\n",
    "    for fname in train_fnames:\n",
    "        src = os.path.join(path, fname)\n",
    "        dst = os.path.join(os.path.join(train_dir, cls), fname)\n",
    "        shutil.copyfile(src, dst)\n",
    "        \n",
    "    validation_fnames = fnames[train_size:(validation_size + train_size)]\n",
    "    print(\"Validation size(\",cls,\"): \", len(validation_fnames))\n",
    "    for fname in validation_fnames:\n",
    "        src = os.path.join(path, fname)\n",
    "        dst = os.path.join(os.path.join(validation_dir, cls), fname)\n",
    "        shutil.copyfile(src, dst)\n",
    "        \n",
    "    test_fnames = fnames[(train_size+validation_size):(validation_size + train_size +test_size)]\n",
    "\n",
    "    print(\"Test size(\",cls,\"): \", len(test_fnames))\n",
    "    for fname in test_fnames:\n",
    "        src = os.path.join(path, fname)\n",
    "        dst = os.path.join(os.path.join(test_dir, cls), fname)\n",
    "        shutil.copyfile(src, dst)"
   ]
  },
  {
   "cell_type": "code",
   "execution_count": 2,
   "metadata": {},
   "outputs": [],
   "source": [
    "import torch\n",
    "import os\n",
    " \n",
    "USE_CUDA = torch.cuda.is_available()\n",
    "DEVICE = torch.device(\"cuda\" if USE_CUDA else \"cpu\")\n",
    "BATCH_SIZE = 256 \n",
    "EPOCH = 30 "
   ]
  },
  {
   "cell_type": "code",
   "execution_count": 4,
   "metadata": {},
   "outputs": [
    {
     "data": {
      "text/plain": [
       "device(type='cuda')"
      ]
     },
     "execution_count": 4,
     "metadata": {},
     "output_type": "execute_result"
    }
   ],
   "source": [
    "DEVICE"
   ]
  },
  {
   "cell_type": "code",
   "execution_count": 5,
   "metadata": {},
   "outputs": [],
   "source": [
    "import torchvision.transforms as transforms\n",
    "from torchvision.datasets import ImageFolder \n",
    " \n",
    "transform_base = transforms.Compose([transforms.Resize((64,64)), transforms.ToTensor()]) \n",
    "train_dataset = ImageFolder(root='./splitted/train', transform=transform_base) \n",
    "val_dataset = ImageFolder(root='./splitted/val', transform=transform_base)"
   ]
  },
  {
   "cell_type": "code",
   "execution_count": 6,
   "metadata": {},
   "outputs": [],
   "source": [
    "from torch.utils.data import DataLoader\n",
    "\n",
    "train_loader = torch.utils.data.DataLoader(train_dataset, batch_size=BATCH_SIZE, shuffle=True, num_workers=4)\n",
    "val_loader = torch.utils.data.DataLoader(val_dataset, batch_size=BATCH_SIZE, shuffle=True, num_workers=4)"
   ]
  },
  {
   "cell_type": "code",
   "execution_count": 9,
   "metadata": {},
   "outputs": [],
   "source": [
    "import torch.nn as nn\n",
    "import torch.nn.functional as F\n",
    "import torch.optim as optim\n",
    " \n",
    "class Net(nn.Module): \n",
    "  \n",
    "    def __init__(self): \n",
    "    \n",
    "        super(Net, self).__init__() \n",
    "\n",
    "        self.conv1 = nn.Conv2d(3, 32, 3, padding=1) \n",
    "        self.pool = nn.MaxPool2d(2,2)  \n",
    "        self.conv2 = nn.Conv2d(32, 64, 3, padding=1)  \n",
    "        self.conv3 = nn.Conv2d(64, 64, 3, padding=1)  \n",
    "\n",
    "        self.fc1 = nn.Linear(4096, 512) \n",
    "        self.fc2 = nn.Linear(512, 39) \n",
    "    \n",
    "    def forward(self, x):  \n",
    "    \n",
    "        x = self.conv1(x)\n",
    "        x = F.relu(x)  \n",
    "        x = self.pool(x) \n",
    "        x = F.dropout(x, p=0.25, training=self.training) \n",
    "\n",
    "        x = self.conv2(x)\n",
    "        x = F.relu(x) \n",
    "        x = self.pool(x) \n",
    "        x = F.dropout(x, p=0.25, training=self.training)\n",
    "\n",
    "        x = self.conv3(x) \n",
    "        x = F.relu(x) \n",
    "        x = self.pool(x) \n",
    "        x = F.dropout(x, p=0.25, training=self.training)\n",
    "\n",
    "        x = x.view(-1, 4096)  \n",
    "        x = self.fc1(x) \n",
    "        x = F.relu(x) \n",
    "        x = F.dropout(x, p=0.5, training=self.training)\n",
    "        x = self.fc2(x) \n",
    "\n",
    "        return F.log_softmax(x, dim=1)  \n",
    "\n",
    "model_base = Net().to(DEVICE)  \n",
    "optimizer = optim.Adam(model_base.parameters(), lr=0.001) "
   ]
  },
  {
   "cell_type": "code",
   "execution_count": 10,
   "metadata": {},
   "outputs": [],
   "source": [
    "def train(model, train_loader, optimizer):\n",
    "    model.train()  \n",
    "    for batch_idx, (data, target) in enumerate(train_loader):\n",
    "        data, target = data.to(DEVICE), target.to(DEVICE) \n",
    "        optimizer.zero_grad() \n",
    "        output = model(data)\n",
    "        # print(dir(output))\n",
    "        loss = F.cross_entropy(output, target) \n",
    "        loss.backward()  \n",
    "        optimizer.step()  "
   ]
  },
  {
   "cell_type": "code",
   "execution_count": 11,
   "metadata": {},
   "outputs": [],
   "source": [
    "def evaluate(model, test_loader):\n",
    "    model.eval()  \n",
    "    test_loss = 0 \n",
    "    correct = 0   \n",
    "    \n",
    "    with torch.no_grad(): \n",
    "        for data, target in test_loader:  \n",
    "            data, target = data.to(DEVICE), target.to(DEVICE)  \n",
    "            output = model(data) \n",
    "            \n",
    "            test_loss += F.cross_entropy(output,target, reduction='sum').item() \n",
    " \n",
    "            \n",
    "            pred = output.max(1, keepdim=True)[1]\n",
    "            correct += pred.eq(target.view_as(pred)).sum().item() \n",
    "   \n",
    "    test_loss /= len(test_loader.dataset) \n",
    "    test_accuracy = 100. * correct / len(test_loader.dataset) \n",
    "    return test_loss, test_accuracy  "
   ]
  },
  {
   "cell_type": "code",
   "execution_count": 12,
   "metadata": {},
   "outputs": [],
   "source": [
    "import time\n",
    "import copy\n",
    " \n",
    "def train_baseline(model ,train_loader, val_loader, optimizer, num_epochs = 30):\n",
    "    best_acc = 0.0  \n",
    "    best_model_wts = copy.deepcopy(model.state_dict()) \n",
    " \n",
    "    for epoch in range(1, num_epochs + 1):\n",
    "        since = time.time()  \n",
    "        train(model, train_loader, optimizer)\n",
    "        train_loss, train_acc = evaluate(model, train_loader) \n",
    "        val_loss, val_acc = evaluate(model, val_loader)\n",
    "        \n",
    "        if val_acc > best_acc: \n",
    "            best_acc = val_acc \n",
    "            best_model_wts = copy.deepcopy(model.state_dict())\n",
    "        \n",
    "        time_elapsed = time.time() - since \n",
    "        print('-------------- epoch {} ----------------'.format(epoch))\n",
    "        print('train Loss: {:.4f}, Accuracy: {:.2f}%'.format(train_loss, train_acc))   \n",
    "        print('val Loss: {:.4f}, Accuracy: {:.2f}%'.format(val_loss, val_acc))\n",
    "        print('Completed in {:.0f}m {:.0f}s'.format(time_elapsed // 60, time_elapsed % 60)) \n",
    "    model.load_state_dict(best_model_wts)  \n",
    "    return model"
   ]
  },
  {
   "cell_type": "code",
   "execution_count": 13,
   "metadata": {},
   "outputs": [
    {
     "name": "stdout",
     "output_type": "stream",
     "text": [
      "-------------- epoch 1 ----------------\n",
      "train Loss: 1.3615, Accuracy: 62.07%\n",
      "val Loss: 1.3826, Accuracy: 61.23%\n",
      "Completed in 0m 36s\n",
      "-------------- epoch 2 ----------------\n",
      "train Loss: 0.8489, Accuracy: 75.08%\n",
      "val Loss: 0.8948, Accuracy: 73.75%\n",
      "Completed in 0m 33s\n",
      "-------------- epoch 3 ----------------\n",
      "train Loss: 0.6426, Accuracy: 81.07%\n",
      "val Loss: 0.6973, Accuracy: 78.97%\n",
      "Completed in 0m 32s\n",
      "-------------- epoch 4 ----------------\n",
      "train Loss: 0.5324, Accuracy: 84.57%\n",
      "val Loss: 0.5920, Accuracy: 82.30%\n",
      "Completed in 0m 32s\n",
      "-------------- epoch 5 ----------------\n",
      "train Loss: 0.4479, Accuracy: 85.94%\n",
      "val Loss: 0.5143, Accuracy: 83.76%\n",
      "Completed in 0m 30s\n",
      "-------------- epoch 6 ----------------\n",
      "train Loss: 0.4151, Accuracy: 87.31%\n",
      "val Loss: 0.4867, Accuracy: 84.93%\n",
      "Completed in 0m 30s\n",
      "-------------- epoch 7 ----------------\n",
      "train Loss: 0.3198, Accuracy: 90.28%\n",
      "val Loss: 0.3937, Accuracy: 87.44%\n",
      "Completed in 0m 30s\n",
      "-------------- epoch 8 ----------------\n",
      "train Loss: 0.2680, Accuracy: 91.72%\n",
      "val Loss: 0.3456, Accuracy: 88.50%\n",
      "Completed in 0m 30s\n"
     ]
    },
    {
     "ename": "KeyboardInterrupt",
     "evalue": "",
     "output_type": "error",
     "traceback": [
      "\u001b[1;31m---------------------------------------------------------------------------\u001b[0m",
      "\u001b[1;31mKeyboardInterrupt\u001b[0m                         Traceback (most recent call last)",
      "\u001b[1;32md:\\workspace\\torch_study\\002_plant_classfication_ref.ipynb Cell 12'\u001b[0m in \u001b[0;36m<cell line: 1>\u001b[1;34m()\u001b[0m\n\u001b[1;32m----> <a href='vscode-notebook-cell:/d%3A/workspace/torch_study/002_plant_classfication_ref.ipynb#ch0000014?line=0'>1</a>\u001b[0m base \u001b[39m=\u001b[39m train_baseline(model_base, train_loader, val_loader, optimizer, EPOCH)\n",
      "\u001b[1;32md:\\workspace\\torch_study\\002_plant_classfication_ref.ipynb Cell 11'\u001b[0m in \u001b[0;36mtrain_baseline\u001b[1;34m(model, train_loader, val_loader, optimizer, num_epochs)\u001b[0m\n\u001b[0;32m      <a href='vscode-notebook-cell:/d%3A/workspace/torch_study/002_plant_classfication_ref.ipynb#ch0000012?line=8'>9</a>\u001b[0m since \u001b[39m=\u001b[39m time\u001b[39m.\u001b[39mtime()  \n\u001b[0;32m     <a href='vscode-notebook-cell:/d%3A/workspace/torch_study/002_plant_classfication_ref.ipynb#ch0000012?line=9'>10</a>\u001b[0m train(model, train_loader, optimizer)\n\u001b[1;32m---> <a href='vscode-notebook-cell:/d%3A/workspace/torch_study/002_plant_classfication_ref.ipynb#ch0000012?line=10'>11</a>\u001b[0m train_loss, train_acc \u001b[39m=\u001b[39m evaluate(model, train_loader) \n\u001b[0;32m     <a href='vscode-notebook-cell:/d%3A/workspace/torch_study/002_plant_classfication_ref.ipynb#ch0000012?line=11'>12</a>\u001b[0m val_loss, val_acc \u001b[39m=\u001b[39m evaluate(model, val_loader)\n\u001b[0;32m     <a href='vscode-notebook-cell:/d%3A/workspace/torch_study/002_plant_classfication_ref.ipynb#ch0000012?line=13'>14</a>\u001b[0m \u001b[39mif\u001b[39;00m val_acc \u001b[39m>\u001b[39m best_acc: \n",
      "\u001b[1;32md:\\workspace\\torch_study\\002_plant_classfication_ref.ipynb Cell 10'\u001b[0m in \u001b[0;36mevaluate\u001b[1;34m(model, test_loader)\u001b[0m\n\u001b[0;32m      <a href='vscode-notebook-cell:/d%3A/workspace/torch_study/002_plant_classfication_ref.ipynb#ch0000011?line=6'>7</a>\u001b[0m \u001b[39mfor\u001b[39;00m data, target \u001b[39min\u001b[39;00m test_loader:  \n\u001b[0;32m      <a href='vscode-notebook-cell:/d%3A/workspace/torch_study/002_plant_classfication_ref.ipynb#ch0000011?line=7'>8</a>\u001b[0m     data, target \u001b[39m=\u001b[39m data\u001b[39m.\u001b[39mto(DEVICE), target\u001b[39m.\u001b[39mto(DEVICE)  \n\u001b[1;32m----> <a href='vscode-notebook-cell:/d%3A/workspace/torch_study/002_plant_classfication_ref.ipynb#ch0000011?line=8'>9</a>\u001b[0m     output \u001b[39m=\u001b[39m model(data) \n\u001b[0;32m     <a href='vscode-notebook-cell:/d%3A/workspace/torch_study/002_plant_classfication_ref.ipynb#ch0000011?line=10'>11</a>\u001b[0m     test_loss \u001b[39m+\u001b[39m\u001b[39m=\u001b[39m F\u001b[39m.\u001b[39mcross_entropy(output,target, reduction\u001b[39m=\u001b[39m\u001b[39m'\u001b[39m\u001b[39msum\u001b[39m\u001b[39m'\u001b[39m)\u001b[39m.\u001b[39mitem() \n\u001b[0;32m     <a href='vscode-notebook-cell:/d%3A/workspace/torch_study/002_plant_classfication_ref.ipynb#ch0000011?line=13'>14</a>\u001b[0m     pred \u001b[39m=\u001b[39m output\u001b[39m.\u001b[39mmax(\u001b[39m1\u001b[39m, keepdim\u001b[39m=\u001b[39m\u001b[39mTrue\u001b[39;00m)[\u001b[39m1\u001b[39m]\n",
      "File \u001b[1;32m~\\Anaconda3\\envs\\torch_study\\lib\\site-packages\\torch\\nn\\modules\\module.py:1129\u001b[0m, in \u001b[0;36mModule._call_impl\u001b[1;34m(self, *input, **kwargs)\u001b[0m\n\u001b[0;32m   <a href='file:///c%3A/Users/bamto/Anaconda3/envs/torch_study/lib/site-packages/torch/nn/modules/module.py?line=1124'>1125</a>\u001b[0m \u001b[39m# If we don't have any hooks, we want to skip the rest of the logic in\u001b[39;00m\n\u001b[0;32m   <a href='file:///c%3A/Users/bamto/Anaconda3/envs/torch_study/lib/site-packages/torch/nn/modules/module.py?line=1125'>1126</a>\u001b[0m \u001b[39m# this function, and just call forward.\u001b[39;00m\n\u001b[0;32m   <a href='file:///c%3A/Users/bamto/Anaconda3/envs/torch_study/lib/site-packages/torch/nn/modules/module.py?line=1126'>1127</a>\u001b[0m \u001b[39mif\u001b[39;00m \u001b[39mnot\u001b[39;00m (\u001b[39mself\u001b[39m\u001b[39m.\u001b[39m_backward_hooks \u001b[39mor\u001b[39;00m \u001b[39mself\u001b[39m\u001b[39m.\u001b[39m_forward_hooks \u001b[39mor\u001b[39;00m \u001b[39mself\u001b[39m\u001b[39m.\u001b[39m_forward_pre_hooks \u001b[39mor\u001b[39;00m _global_backward_hooks\n\u001b[0;32m   <a href='file:///c%3A/Users/bamto/Anaconda3/envs/torch_study/lib/site-packages/torch/nn/modules/module.py?line=1127'>1128</a>\u001b[0m         \u001b[39mor\u001b[39;00m _global_forward_hooks \u001b[39mor\u001b[39;00m _global_forward_pre_hooks):\n\u001b[1;32m-> <a href='file:///c%3A/Users/bamto/Anaconda3/envs/torch_study/lib/site-packages/torch/nn/modules/module.py?line=1128'>1129</a>\u001b[0m     \u001b[39mreturn\u001b[39;00m forward_call(\u001b[39m*\u001b[39;49m\u001b[39minput\u001b[39;49m, \u001b[39m*\u001b[39;49m\u001b[39m*\u001b[39;49mkwargs)\n\u001b[0;32m   <a href='file:///c%3A/Users/bamto/Anaconda3/envs/torch_study/lib/site-packages/torch/nn/modules/module.py?line=1129'>1130</a>\u001b[0m \u001b[39m# Do not call functions when jit is used\u001b[39;00m\n\u001b[0;32m   <a href='file:///c%3A/Users/bamto/Anaconda3/envs/torch_study/lib/site-packages/torch/nn/modules/module.py?line=1130'>1131</a>\u001b[0m full_backward_hooks, non_full_backward_hooks \u001b[39m=\u001b[39m [], []\n",
      "\u001b[1;32md:\\workspace\\torch_study\\002_plant_classfication_ref.ipynb Cell 8'\u001b[0m in \u001b[0;36mNet.forward\u001b[1;34m(self, x)\u001b[0m\n\u001b[0;32m     <a href='vscode-notebook-cell:/d%3A/workspace/torch_study/002_plant_classfication_ref.ipynb#ch0000009?line=18'>19</a>\u001b[0m \u001b[39mdef\u001b[39;00m \u001b[39mforward\u001b[39m(\u001b[39mself\u001b[39m, x):  \n\u001b[1;32m---> <a href='vscode-notebook-cell:/d%3A/workspace/torch_study/002_plant_classfication_ref.ipynb#ch0000009?line=20'>21</a>\u001b[0m     x \u001b[39m=\u001b[39m \u001b[39mself\u001b[39;49m\u001b[39m.\u001b[39;49mconv1(x)\n\u001b[0;32m     <a href='vscode-notebook-cell:/d%3A/workspace/torch_study/002_plant_classfication_ref.ipynb#ch0000009?line=21'>22</a>\u001b[0m     x \u001b[39m=\u001b[39m F\u001b[39m.\u001b[39mrelu(x)  \n\u001b[0;32m     <a href='vscode-notebook-cell:/d%3A/workspace/torch_study/002_plant_classfication_ref.ipynb#ch0000009?line=22'>23</a>\u001b[0m     x \u001b[39m=\u001b[39m \u001b[39mself\u001b[39m\u001b[39m.\u001b[39mpool(x) \n",
      "File \u001b[1;32m~\\Anaconda3\\envs\\torch_study\\lib\\site-packages\\torch\\nn\\modules\\module.py:1129\u001b[0m, in \u001b[0;36mModule._call_impl\u001b[1;34m(self, *input, **kwargs)\u001b[0m\n\u001b[0;32m   <a href='file:///c%3A/Users/bamto/Anaconda3/envs/torch_study/lib/site-packages/torch/nn/modules/module.py?line=1124'>1125</a>\u001b[0m \u001b[39m# If we don't have any hooks, we want to skip the rest of the logic in\u001b[39;00m\n\u001b[0;32m   <a href='file:///c%3A/Users/bamto/Anaconda3/envs/torch_study/lib/site-packages/torch/nn/modules/module.py?line=1125'>1126</a>\u001b[0m \u001b[39m# this function, and just call forward.\u001b[39;00m\n\u001b[0;32m   <a href='file:///c%3A/Users/bamto/Anaconda3/envs/torch_study/lib/site-packages/torch/nn/modules/module.py?line=1126'>1127</a>\u001b[0m \u001b[39mif\u001b[39;00m \u001b[39mnot\u001b[39;00m (\u001b[39mself\u001b[39m\u001b[39m.\u001b[39m_backward_hooks \u001b[39mor\u001b[39;00m \u001b[39mself\u001b[39m\u001b[39m.\u001b[39m_forward_hooks \u001b[39mor\u001b[39;00m \u001b[39mself\u001b[39m\u001b[39m.\u001b[39m_forward_pre_hooks \u001b[39mor\u001b[39;00m _global_backward_hooks\n\u001b[0;32m   <a href='file:///c%3A/Users/bamto/Anaconda3/envs/torch_study/lib/site-packages/torch/nn/modules/module.py?line=1127'>1128</a>\u001b[0m         \u001b[39mor\u001b[39;00m _global_forward_hooks \u001b[39mor\u001b[39;00m _global_forward_pre_hooks):\n\u001b[1;32m-> <a href='file:///c%3A/Users/bamto/Anaconda3/envs/torch_study/lib/site-packages/torch/nn/modules/module.py?line=1128'>1129</a>\u001b[0m     \u001b[39mreturn\u001b[39;00m forward_call(\u001b[39m*\u001b[39;49m\u001b[39minput\u001b[39;49m, \u001b[39m*\u001b[39;49m\u001b[39m*\u001b[39;49mkwargs)\n\u001b[0;32m   <a href='file:///c%3A/Users/bamto/Anaconda3/envs/torch_study/lib/site-packages/torch/nn/modules/module.py?line=1129'>1130</a>\u001b[0m \u001b[39m# Do not call functions when jit is used\u001b[39;00m\n\u001b[0;32m   <a href='file:///c%3A/Users/bamto/Anaconda3/envs/torch_study/lib/site-packages/torch/nn/modules/module.py?line=1130'>1131</a>\u001b[0m full_backward_hooks, non_full_backward_hooks \u001b[39m=\u001b[39m [], []\n",
      "File \u001b[1;32m~\\Anaconda3\\envs\\torch_study\\lib\\site-packages\\torch\\nn\\modules\\conv.py:447\u001b[0m, in \u001b[0;36mConv2d.forward\u001b[1;34m(self, input)\u001b[0m\n\u001b[0;32m    <a href='file:///c%3A/Users/bamto/Anaconda3/envs/torch_study/lib/site-packages/torch/nn/modules/conv.py?line=445'>446</a>\u001b[0m \u001b[39mdef\u001b[39;00m \u001b[39mforward\u001b[39m(\u001b[39mself\u001b[39m, \u001b[39minput\u001b[39m: Tensor) \u001b[39m-\u001b[39m\u001b[39m>\u001b[39m Tensor:\n\u001b[1;32m--> <a href='file:///c%3A/Users/bamto/Anaconda3/envs/torch_study/lib/site-packages/torch/nn/modules/conv.py?line=446'>447</a>\u001b[0m     \u001b[39mreturn\u001b[39;00m \u001b[39mself\u001b[39;49m\u001b[39m.\u001b[39;49m_conv_forward(\u001b[39minput\u001b[39;49m, \u001b[39mself\u001b[39;49m\u001b[39m.\u001b[39;49mweight, \u001b[39mself\u001b[39;49m\u001b[39m.\u001b[39;49mbias)\n",
      "File \u001b[1;32m~\\Anaconda3\\envs\\torch_study\\lib\\site-packages\\torch\\nn\\modules\\conv.py:443\u001b[0m, in \u001b[0;36mConv2d._conv_forward\u001b[1;34m(self, input, weight, bias)\u001b[0m\n\u001b[0;32m    <a href='file:///c%3A/Users/bamto/Anaconda3/envs/torch_study/lib/site-packages/torch/nn/modules/conv.py?line=438'>439</a>\u001b[0m \u001b[39mif\u001b[39;00m \u001b[39mself\u001b[39m\u001b[39m.\u001b[39mpadding_mode \u001b[39m!=\u001b[39m \u001b[39m'\u001b[39m\u001b[39mzeros\u001b[39m\u001b[39m'\u001b[39m:\n\u001b[0;32m    <a href='file:///c%3A/Users/bamto/Anaconda3/envs/torch_study/lib/site-packages/torch/nn/modules/conv.py?line=439'>440</a>\u001b[0m     \u001b[39mreturn\u001b[39;00m F\u001b[39m.\u001b[39mconv2d(F\u001b[39m.\u001b[39mpad(\u001b[39minput\u001b[39m, \u001b[39mself\u001b[39m\u001b[39m.\u001b[39m_reversed_padding_repeated_twice, mode\u001b[39m=\u001b[39m\u001b[39mself\u001b[39m\u001b[39m.\u001b[39mpadding_mode),\n\u001b[0;32m    <a href='file:///c%3A/Users/bamto/Anaconda3/envs/torch_study/lib/site-packages/torch/nn/modules/conv.py?line=440'>441</a>\u001b[0m                     weight, bias, \u001b[39mself\u001b[39m\u001b[39m.\u001b[39mstride,\n\u001b[0;32m    <a href='file:///c%3A/Users/bamto/Anaconda3/envs/torch_study/lib/site-packages/torch/nn/modules/conv.py?line=441'>442</a>\u001b[0m                     _pair(\u001b[39m0\u001b[39m), \u001b[39mself\u001b[39m\u001b[39m.\u001b[39mdilation, \u001b[39mself\u001b[39m\u001b[39m.\u001b[39mgroups)\n\u001b[1;32m--> <a href='file:///c%3A/Users/bamto/Anaconda3/envs/torch_study/lib/site-packages/torch/nn/modules/conv.py?line=442'>443</a>\u001b[0m \u001b[39mreturn\u001b[39;00m F\u001b[39m.\u001b[39;49mconv2d(\u001b[39minput\u001b[39;49m, weight, bias, \u001b[39mself\u001b[39;49m\u001b[39m.\u001b[39;49mstride,\n\u001b[0;32m    <a href='file:///c%3A/Users/bamto/Anaconda3/envs/torch_study/lib/site-packages/torch/nn/modules/conv.py?line=443'>444</a>\u001b[0m                 \u001b[39mself\u001b[39;49m\u001b[39m.\u001b[39;49mpadding, \u001b[39mself\u001b[39;49m\u001b[39m.\u001b[39;49mdilation, \u001b[39mself\u001b[39;49m\u001b[39m.\u001b[39;49mgroups)\n",
      "\u001b[1;31mKeyboardInterrupt\u001b[0m: "
     ]
    }
   ],
   "source": [
    "base = train_baseline(model_base, train_loader, val_loader, optimizer, EPOCH)"
   ]
  },
  {
   "cell_type": "code",
   "execution_count": null,
   "metadata": {},
   "outputs": [],
   "source": [
    "torch.save(base,'baseline.pt')"
   ]
  },
  {
   "cell_type": "code",
   "execution_count": null,
   "metadata": {},
   "outputs": [],
   "source": []
  },
  {
   "cell_type": "code",
   "execution_count": null,
   "metadata": {},
   "outputs": [],
   "source": []
  }
 ],
 "metadata": {
  "interpreter": {
   "hash": "63f079a629f1330562a28709405f9dfec3da39279f0688f168f2fac4b256611f"
  },
  "kernelspec": {
   "display_name": "Python 3.8.13 ('torch_study')",
   "language": "python",
   "name": "python3"
  },
  "language_info": {
   "codemirror_mode": {
    "name": "ipython",
    "version": 3
   },
   "file_extension": ".py",
   "mimetype": "text/x-python",
   "name": "python",
   "nbconvert_exporter": "python",
   "pygments_lexer": "ipython3",
   "version": "3.8.13"
  },
  "orig_nbformat": 4
 },
 "nbformat": 4,
 "nbformat_minor": 2
}
